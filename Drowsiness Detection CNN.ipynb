{
 "cells": [
  {
   "cell_type": "markdown",
   "id": "85e98ac8",
   "metadata": {},
   "source": [
    "Importing Libraries"
   ]
  },
  {
   "cell_type": "code",
   "execution_count": null,
   "id": "8719bdd9",
   "metadata": {},
   "outputs": [],
   "source": [
    "import tensorflow as tf\n",
    "from keras.preprocessing.image import ImageDataGenerator"
   ]
  },
  {
   "cell_type": "markdown",
   "id": "1c09e213",
   "metadata": {},
   "source": [
    "Checking Tensorflow Version"
   ]
  },
  {
   "cell_type": "code",
   "execution_count": 2,
   "id": "5ef8cdbd",
   "metadata": {
    "scrolled": true
   },
   "outputs": [
    {
     "data": {
      "text/plain": [
       "'2.9.2'"
      ]
     },
     "execution_count": 2,
     "metadata": {},
     "output_type": "execute_result"
    }
   ],
   "source": [
    "tf.__version__"
   ]
  },
  {
   "cell_type": "markdown",
   "id": "eedceb44",
   "metadata": {},
   "source": [
    "Augmenting and giving the training dataset"
   ]
  },
  {
   "cell_type": "code",
   "execution_count": 3,
   "id": "6cbed461",
   "metadata": {},
   "outputs": [
    {
     "name": "stdout",
     "output_type": "stream",
     "text": [
      "Found 2604 images belonging to 4 classes.\n"
     ]
    }
   ],
   "source": [
    "train_datagen = ImageDataGenerator(rescale = 1./255,\n",
    "                                   shear_range = 0.2,\n",
    "                                   zoom_range = 0.2,\n",
    "                                   brightness_range=(0.1, 0.9),\n",
    "                                   channel_shift_range=150.0,\n",
    "                                   width_shift_range=0.3,\n",
    "                                   height_shift_range=0.3,\n",
    "                                   horizontal_flip = True)\n",
    "training_set = train_datagen.flow_from_directory(\"/Users/namanvasudeva/Downloads/train 4/train\",\n",
    "                                                 target_size = (64, 64),\n",
    "                                                 batch_size = 32,\n",
    "                                                 class_mode = 'sparse')"
   ]
  },
  {
   "cell_type": "markdown",
   "id": "3e392a10",
   "metadata": {},
   "source": [
    "Setting Path for Test data"
   ]
  },
  {
   "cell_type": "code",
   "execution_count": 4,
   "id": "b41b32e1",
   "metadata": {},
   "outputs": [
    {
     "name": "stdout",
     "output_type": "stream",
     "text": [
      "Found 296 images belonging to 4 classes.\n"
     ]
    }
   ],
   "source": [
    "test_datagen = ImageDataGenerator(rescale = 1./255)\n",
    "test_set = test_datagen.flow_from_directory(\"/Users/namanvasudeva/Downloads/train 4/test\",\n",
    "                                            target_size = (64, 64),\n",
    "                                            batch_size = 32,\n",
    "                                            class_mode = 'sparse')"
   ]
  },
  {
   "cell_type": "markdown",
   "id": "af1ed345",
   "metadata": {},
   "source": [
    "Setting model for sequential data"
   ]
  },
  {
   "cell_type": "code",
   "execution_count": 5,
   "id": "5e01cd8d",
   "metadata": {
    "scrolled": true
   },
   "outputs": [
    {
     "name": "stdout",
     "output_type": "stream",
     "text": [
      "Metal device set to: Apple M1\n"
     ]
    },
    {
     "name": "stderr",
     "output_type": "stream",
     "text": [
      "2022-08-14 23:19:18.931019: I tensorflow/core/common_runtime/pluggable_device/pluggable_device_factory.cc:305] Could not identify NUMA node of platform GPU ID 0, defaulting to 0. Your kernel may not have been built with NUMA support.\n",
      "2022-08-14 23:19:18.931189: I tensorflow/core/common_runtime/pluggable_device/pluggable_device_factory.cc:271] Created TensorFlow device (/job:localhost/replica:0/task:0/device:GPU:0 with 0 MB memory) -> physical PluggableDevice (device: 0, name: METAL, pci bus id: <undefined>)\n"
     ]
    }
   ],
   "source": [
    "cnn = tf.keras.models.Sequential()"
   ]
  },
  {
   "cell_type": "markdown",
   "id": "6ece5978",
   "metadata": {},
   "source": [
    "Adding layers to CNN Model"
   ]
  },
  {
   "cell_type": "code",
   "execution_count": 6,
   "id": "9e840725",
   "metadata": {},
   "outputs": [],
   "source": [
    "cnn.add(tf.keras.layers.Conv2D(filters=32, kernel_size=3, activation='relu', input_shape=[64, 64, 3]))"
   ]
  },
  {
   "cell_type": "code",
   "execution_count": 7,
   "id": "81bc497c",
   "metadata": {},
   "outputs": [],
   "source": [
    "cnn.add(tf.keras.layers.MaxPool2D(pool_size=2, strides=2))"
   ]
  },
  {
   "cell_type": "code",
   "execution_count": 8,
   "id": "af193bc5",
   "metadata": {},
   "outputs": [],
   "source": [
    "cnn.add(tf.keras.layers.Conv2D(filters=32, kernel_size=3, activation='relu'))\n",
    "cnn.add(tf.keras.layers.MaxPool2D(pool_size=2, strides=2))"
   ]
  },
  {
   "cell_type": "code",
   "execution_count": 9,
   "id": "e8e9dae2",
   "metadata": {},
   "outputs": [],
   "source": [
    "cnn.add(tf.keras.layers.Flatten())"
   ]
  },
  {
   "cell_type": "code",
   "execution_count": 10,
   "id": "d52eee22",
   "metadata": {},
   "outputs": [],
   "source": [
    "cnn.add(tf.keras.layers.Dense(units=128, activation='relu'))"
   ]
  },
  {
   "cell_type": "code",
   "execution_count": 11,
   "id": "5223040a",
   "metadata": {},
   "outputs": [],
   "source": [
    "cnn.add(tf.keras.layers.Dense(units=4, activation='softmax'))"
   ]
  },
  {
   "cell_type": "markdown",
   "id": "a497bc0b",
   "metadata": {},
   "source": [
    "Using the optimizer adam and categorical crossentropy for loss"
   ]
  },
  {
   "cell_type": "code",
   "execution_count": 12,
   "id": "09aa1f64",
   "metadata": {},
   "outputs": [],
   "source": [
    "cnn.compile(optimizer = 'adam', loss = 'sparse_categorical_crossentropy', metrics = ['accuracy'])"
   ]
  },
  {
   "cell_type": "markdown",
   "id": "2ccfadf1",
   "metadata": {},
   "source": [
    "Running 50 Epochs to train CNN Model"
   ]
  },
  {
   "cell_type": "code",
   "execution_count": 13,
   "id": "e79f65f1",
   "metadata": {},
   "outputs": [
    {
     "name": "stdout",
     "output_type": "stream",
     "text": [
      "Epoch 1/50\n"
     ]
    },
    {
     "name": "stderr",
     "output_type": "stream",
     "text": [
      "2022-08-14 23:19:19.155453: W tensorflow/core/platform/profile_utils/cpu_utils.cc:128] Failed to get CPU frequency: 0 Hz\n",
      "2022-08-14 23:19:19.367821: I tensorflow/core/grappler/optimizers/custom_graph_optimizer_registry.cc:113] Plugin optimizer for device_type GPU is enabled.\n"
     ]
    },
    {
     "name": "stdout",
     "output_type": "stream",
     "text": [
      "82/82 [==============================] - ETA: 0s - loss: 1.1454 - accuracy: 0.4305"
     ]
    },
    {
     "name": "stderr",
     "output_type": "stream",
     "text": [
      "2022-08-14 23:19:26.329371: I tensorflow/core/grappler/optimizers/custom_graph_optimizer_registry.cc:113] Plugin optimizer for device_type GPU is enabled.\n"
     ]
    },
    {
     "name": "stdout",
     "output_type": "stream",
     "text": [
      "82/82 [==============================] - 8s 89ms/step - loss: 1.1454 - accuracy: 0.4305 - val_loss: 6.7802 - val_accuracy: 0.4155\n",
      "Epoch 2/50\n",
      "82/82 [==============================] - 7s 86ms/step - loss: 0.9059 - accuracy: 0.5326 - val_loss: 6.7138 - val_accuracy: 0.3851\n",
      "Epoch 3/50\n",
      "82/82 [==============================] - 7s 86ms/step - loss: 0.8908 - accuracy: 0.5476 - val_loss: 7.8924 - val_accuracy: 0.4189\n",
      "Epoch 4/50\n",
      "82/82 [==============================] - 7s 85ms/step - loss: 0.8045 - accuracy: 0.5895 - val_loss: 9.3905 - val_accuracy: 0.3818\n",
      "Epoch 5/50\n",
      "82/82 [==============================] - 7s 84ms/step - loss: 0.7850 - accuracy: 0.5868 - val_loss: 8.0229 - val_accuracy: 0.4730\n",
      "Epoch 6/50\n",
      "82/82 [==============================] - 7s 81ms/step - loss: 0.7630 - accuracy: 0.6198 - val_loss: 9.3162 - val_accuracy: 0.4088\n",
      "Epoch 7/50\n",
      "82/82 [==============================] - 7s 83ms/step - loss: 0.7058 - accuracy: 0.6313 - val_loss: 9.5298 - val_accuracy: 0.4426\n",
      "Epoch 8/50\n",
      "82/82 [==============================] - 7s 83ms/step - loss: 0.7579 - accuracy: 0.6152 - val_loss: 9.6534 - val_accuracy: 0.4257\n",
      "Epoch 9/50\n",
      "82/82 [==============================] - 7s 83ms/step - loss: 0.6721 - accuracy: 0.6509 - val_loss: 11.5407 - val_accuracy: 0.3750\n",
      "Epoch 10/50\n",
      "82/82 [==============================] - 7s 81ms/step - loss: 0.6525 - accuracy: 0.6717 - val_loss: 10.3336 - val_accuracy: 0.3851\n",
      "Epoch 11/50\n",
      "82/82 [==============================] - 7s 80ms/step - loss: 0.6373 - accuracy: 0.6674 - val_loss: 12.8697 - val_accuracy: 0.4054\n",
      "Epoch 12/50\n",
      "82/82 [==============================] - 7s 81ms/step - loss: 0.6316 - accuracy: 0.6647 - val_loss: 11.6463 - val_accuracy: 0.4493\n",
      "Epoch 13/50\n",
      "82/82 [==============================] - 7s 80ms/step - loss: 0.6040 - accuracy: 0.6909 - val_loss: 12.3272 - val_accuracy: 0.4561\n",
      "Epoch 14/50\n",
      "82/82 [==============================] - 7s 81ms/step - loss: 0.6025 - accuracy: 0.6813 - val_loss: 12.4346 - val_accuracy: 0.4088\n",
      "Epoch 15/50\n",
      "82/82 [==============================] - 7s 81ms/step - loss: 0.6059 - accuracy: 0.6824 - val_loss: 14.9536 - val_accuracy: 0.4730\n",
      "Epoch 16/50\n",
      "82/82 [==============================] - 7s 81ms/step - loss: 0.5899 - accuracy: 0.6935 - val_loss: 14.4507 - val_accuracy: 0.4628\n",
      "Epoch 17/50\n",
      "82/82 [==============================] - 7s 81ms/step - loss: 0.5883 - accuracy: 0.6866 - val_loss: 13.7800 - val_accuracy: 0.4696\n",
      "Epoch 18/50\n",
      "82/82 [==============================] - 7s 81ms/step - loss: 0.5859 - accuracy: 0.6905 - val_loss: 12.6648 - val_accuracy: 0.4662\n",
      "Epoch 19/50\n",
      "82/82 [==============================] - 7s 81ms/step - loss: 0.5807 - accuracy: 0.7028 - val_loss: 14.0841 - val_accuracy: 0.4628\n",
      "Epoch 20/50\n",
      "82/82 [==============================] - 7s 81ms/step - loss: 0.5749 - accuracy: 0.6955 - val_loss: 13.6260 - val_accuracy: 0.4426\n",
      "Epoch 21/50\n",
      "82/82 [==============================] - 7s 81ms/step - loss: 0.5541 - accuracy: 0.7001 - val_loss: 14.6719 - val_accuracy: 0.4932\n",
      "Epoch 22/50\n",
      "82/82 [==============================] - 7s 81ms/step - loss: 0.5856 - accuracy: 0.6974 - val_loss: 12.4173 - val_accuracy: 0.4899\n",
      "Epoch 23/50\n",
      "82/82 [==============================] - 7s 81ms/step - loss: 0.5775 - accuracy: 0.6978 - val_loss: 11.9229 - val_accuracy: 0.4392\n",
      "Epoch 24/50\n",
      "82/82 [==============================] - 7s 81ms/step - loss: 0.5521 - accuracy: 0.7101 - val_loss: 15.0827 - val_accuracy: 0.4493\n",
      "Epoch 25/50\n",
      "82/82 [==============================] - 7s 81ms/step - loss: 0.5574 - accuracy: 0.7055 - val_loss: 12.7369 - val_accuracy: 0.4899\n",
      "Epoch 26/50\n",
      "82/82 [==============================] - 7s 82ms/step - loss: 0.5435 - accuracy: 0.7181 - val_loss: 14.6457 - val_accuracy: 0.4291\n",
      "Epoch 27/50\n",
      "82/82 [==============================] - 7s 81ms/step - loss: 0.5680 - accuracy: 0.6962 - val_loss: 11.9228 - val_accuracy: 0.4865\n",
      "Epoch 28/50\n",
      "82/82 [==============================] - 7s 82ms/step - loss: 0.5461 - accuracy: 0.7085 - val_loss: 15.5897 - val_accuracy: 0.4426\n",
      "Epoch 29/50\n",
      "82/82 [==============================] - 7s 81ms/step - loss: 0.5427 - accuracy: 0.7024 - val_loss: 16.7937 - val_accuracy: 0.4899\n",
      "Epoch 30/50\n",
      "82/82 [==============================] - 7s 81ms/step - loss: 0.5309 - accuracy: 0.7220 - val_loss: 16.3682 - val_accuracy: 0.4291\n",
      "Epoch 31/50\n",
      "82/82 [==============================] - 7s 81ms/step - loss: 0.5335 - accuracy: 0.7239 - val_loss: 13.1440 - val_accuracy: 0.4459\n",
      "Epoch 32/50\n",
      "82/82 [==============================] - 7s 82ms/step - loss: 0.5345 - accuracy: 0.7281 - val_loss: 16.3114 - val_accuracy: 0.4459\n",
      "Epoch 33/50\n",
      "82/82 [==============================] - 7s 81ms/step - loss: 0.5236 - accuracy: 0.7239 - val_loss: 15.6370 - val_accuracy: 0.4291\n",
      "Epoch 34/50\n",
      "82/82 [==============================] - 7s 81ms/step - loss: 0.5024 - accuracy: 0.7254 - val_loss: 17.8089 - val_accuracy: 0.4257\n",
      "Epoch 35/50\n",
      "82/82 [==============================] - 7s 81ms/step - loss: 0.5513 - accuracy: 0.7147 - val_loss: 15.1127 - val_accuracy: 0.4797\n",
      "Epoch 36/50\n",
      "82/82 [==============================] - 7s 81ms/step - loss: 0.5268 - accuracy: 0.7231 - val_loss: 14.1200 - val_accuracy: 0.4291\n",
      "Epoch 37/50\n",
      "82/82 [==============================] - 7s 81ms/step - loss: 0.5186 - accuracy: 0.7231 - val_loss: 18.3999 - val_accuracy: 0.4291\n",
      "Epoch 38/50\n",
      "82/82 [==============================] - 7s 81ms/step - loss: 0.5074 - accuracy: 0.7170 - val_loss: 16.5811 - val_accuracy: 0.4459\n",
      "Epoch 39/50\n",
      "82/82 [==============================] - 7s 81ms/step - loss: 0.5100 - accuracy: 0.7273 - val_loss: 18.0479 - val_accuracy: 0.4392\n",
      "Epoch 40/50\n",
      "82/82 [==============================] - 7s 81ms/step - loss: 0.5289 - accuracy: 0.7189 - val_loss: 13.4653 - val_accuracy: 0.4426\n",
      "Epoch 41/50\n",
      "82/82 [==============================] - 7s 81ms/step - loss: 0.5052 - accuracy: 0.7289 - val_loss: 19.6973 - val_accuracy: 0.4797\n",
      "Epoch 42/50\n",
      "82/82 [==============================] - 7s 81ms/step - loss: 0.5138 - accuracy: 0.7320 - val_loss: 15.7620 - val_accuracy: 0.4459\n",
      "Epoch 43/50\n",
      "82/82 [==============================] - 7s 81ms/step - loss: 0.4926 - accuracy: 0.7408 - val_loss: 18.0422 - val_accuracy: 0.4459\n",
      "Epoch 44/50\n",
      "82/82 [==============================] - 7s 81ms/step - loss: 0.5017 - accuracy: 0.7339 - val_loss: 18.1666 - val_accuracy: 0.4358\n",
      "Epoch 45/50\n",
      "82/82 [==============================] - 7s 81ms/step - loss: 0.5030 - accuracy: 0.7339 - val_loss: 18.9879 - val_accuracy: 0.4459\n",
      "Epoch 46/50\n",
      "82/82 [==============================] - 7s 81ms/step - loss: 0.5010 - accuracy: 0.7250 - val_loss: 19.3356 - val_accuracy: 0.4459\n",
      "Epoch 47/50\n",
      "82/82 [==============================] - 7s 81ms/step - loss: 0.4893 - accuracy: 0.7473 - val_loss: 18.8117 - val_accuracy: 0.4696\n",
      "Epoch 48/50\n",
      "82/82 [==============================] - 7s 81ms/step - loss: 0.5037 - accuracy: 0.7323 - val_loss: 15.7626 - val_accuracy: 0.4291\n",
      "Epoch 49/50\n",
      "82/82 [==============================] - 7s 81ms/step - loss: 0.5178 - accuracy: 0.7300 - val_loss: 19.4706 - val_accuracy: 0.4527\n",
      "Epoch 50/50\n",
      "82/82 [==============================] - 7s 81ms/step - loss: 0.5036 - accuracy: 0.7304 - val_loss: 15.7046 - val_accuracy: 0.4493\n"
     ]
    },
    {
     "data": {
      "text/plain": [
       "<keras.callbacks.History at 0x153a6ec40>"
      ]
     },
     "execution_count": 13,
     "metadata": {},
     "output_type": "execute_result"
    }
   ],
   "source": [
    "cnn.fit(x = training_set, validation_data = test_set, epochs = 50)"
   ]
  },
  {
   "cell_type": "markdown",
   "id": "db376d83",
   "metadata": {},
   "source": [
    "Displaying the test image"
   ]
  },
  {
   "cell_type": "code",
   "execution_count": 14,
   "id": "5e8586e6",
   "metadata": {},
   "outputs": [
    {
     "data": {
      "image/png": "[encoded data removed]",
      "text/plain": [
       "<PIL.Image.Image image mode=RGB size=64x64>"
      ]
     },
     "execution_count": 14,
     "metadata": {},
     "output_type": "execute_result"
    }
   ],
   "source": [
    "from tensorflow.keras.preprocessing import image\n",
    "test_image = image.load_img(\"/Users/namanvasudeva/Downloads/train 4/Predict/images.jpeg\", target_size = (64, 64))\n",
    "test_image\n",
    "\n",
    "\n",
    "\n",
    "\n",
    "\n"
   ]
  },
  {
   "cell_type": "markdown",
   "id": "c0493f01",
   "metadata": {},
   "source": [
    "Running the loop for checking whether the image is of an alert driver or a drowsy one"
   ]
  },
  {
   "cell_type": "code",
   "execution_count": 20,
   "id": "e01a4f9f",
   "metadata": {
    "scrolled": true
   },
   "outputs": [
    {
     "name": "stdout",
     "output_type": "stream",
     "text": [
      "1/1 [==============================] - 0s 12ms/step\n",
      "2\n"
     ]
    }
   ],
   "source": [
    "import numpy as np\n",
    "from tensorflow.keras.preprocessing import image\n",
    "\n",
    "test_image = image.load_img(\"/Users/namanvasudeva/Downloads/train 4/Predict/images.jpeg\" , target_size = (64, 64))\n",
    "\n",
    "\n",
    "test_image = image.img_to_array(test_image)\n",
    "test_image = np.expand_dims(test_image,axis = 0)\n",
    "\n",
    "\n",
    "result = cnn.predict(test_image)\n",
    "\n",
    "result=result.astype(int)\n",
    "Y=training_set.class_indices\n",
    "j=0\n",
    "i = 0\n",
    "while i < 3:\n",
    "    \n",
    "    if result[0][i] == 1:\n",
    "        break\n",
    "    i=i+1\n",
    "print(i)\n",
    "j=i\n",
    "if j == 0:\n",
    " prediction = 'Drowsy'\n",
    "    \n",
    "elif j == 1:\n",
    " prediction = 'Alert'\n",
    "elif j == 2:\n",
    " prediction = 'Alert'\n",
    "elif j == 3:\n",
    " prediction = 'Drowsy'\n"
   ]
  },
  {
   "cell_type": "markdown",
   "id": "0b14dfab",
   "metadata": {},
   "source": [
    "Predicting the State of the driver"
   ]
  },
  {
   "cell_type": "code",
   "execution_count": 21,
   "id": "bc3454cc",
   "metadata": {
    "scrolled": false
   },
   "outputs": [
    {
     "name": "stdout",
     "output_type": "stream",
     "text": [
      "Alert\n"
     ]
    }
   ],
   "source": [
    "print(prediction)"
   ]
  },
  {
   "cell_type": "markdown",
   "id": "5dcd921f",
   "metadata": {},
   "source": [
    "Displaying another image to check the algorithm"
   ]
  },
  {
   "cell_type": "code",
   "execution_count": 22,
   "id": "f231d66a",
   "metadata": {},
   "outputs": [
    {
     "data": {
      "image/png": "[encoded data removed]",
      "text/plain": [
       "<PIL.Image.Image image mode=RGB size=64x64>"
      ]
     },
     "execution_count": 22,
     "metadata": {},
     "output_type": "execute_result"
    }
   ],
   "source": [
    "from tensorflow.keras.preprocessing import image\n",
    "test_image = image.load_img(\"/Users/namanvasudeva/Downloads/train 4/Predict/images-4.jpeg\", target_size = (64, 64))\n",
    "test_image\n",
    "\n",
    "\n",
    "\n",
    "\n",
    "\n"
   ]
  },
  {
   "cell_type": "markdown",
   "id": "fe1cc2eb",
   "metadata": {},
   "source": [
    "Running the loop for checking whether the image is of an alert driver or a drowsy one"
   ]
  },
  {
   "cell_type": "code",
   "execution_count": 23,
   "id": "359c60ed",
   "metadata": {
    "scrolled": true
   },
   "outputs": [
    {
     "name": "stdout",
     "output_type": "stream",
     "text": [
      "1/1 [==============================] - 0s 14ms/step\n",
      "3\n"
     ]
    }
   ],
   "source": [
    "import numpy as np\n",
    "from tensorflow.keras.preprocessing import image\n",
    "\n",
    "test_image = image.load_img(\"/Users/namanvasudeva/Downloads/train 4/Predict/images-4.jpeg\" , target_size = (64, 64))\n",
    "\n",
    "\n",
    "test_image = image.img_to_array(test_image)\n",
    "test_image = np.expand_dims(test_image,axis = 0)\n",
    "\n",
    "\n",
    "result = cnn.predict(test_image)\n",
    "\n",
    "result=result.astype(int)\n",
    "Y=training_set.class_indices\n",
    "j=0\n",
    "i = 0\n",
    "while i < 3:\n",
    "    \n",
    "    if result[0][i] == 1:\n",
    "        break\n",
    "    i=i+1\n",
    "print(i)\n",
    "j=i\n",
    "if j == 0:\n",
    " prediction = 'Drowsy'\n",
    "    \n",
    "elif j == 1:\n",
    " prediction = 'Alert'\n",
    "elif j == 2:\n",
    " prediction = 'Alert'\n",
    "elif j == 3:\n",
    " prediction = 'Drowsy'"
   ]
  },
  {
   "cell_type": "markdown",
   "id": "dcb38e51",
   "metadata": {},
   "source": [
    "Pridicting the driver state for the image"
   ]
  },
  {
   "cell_type": "code",
   "execution_count": 24,
   "id": "d32f660b",
   "metadata": {
    "scrolled": true
   },
   "outputs": [
    {
     "name": "stdout",
     "output_type": "stream",
     "text": [
      "Drowsy\n"
     ]
    }
   ],
   "source": [
    "print(prediction)"
   ]
  },
  {
   "cell_type": "markdown",
   "id": "acf3956c",
   "metadata": {},
   "source": [
    "As checked for two images, the algorithm is able to correctly predict the state of driver drowsiness"
   ]
  }
 ],
 "metadata": {
  "kernelspec": {
   "display_name": "Python 3 (ipykernel)",
   "language": "python",
   "name": "python3"
  },
  "language_info": {
   "codemirror_mode": {
    "name": "ipython",
    "version": 3
   },
   "file_extension": ".py",
   "mimetype": "text/x-python",
   "name": "python",
   "nbconvert_exporter": "python",
   "pygments_lexer": "ipython3",
   "version": "3.9.13"
  }
 },
 "nbformat": 4,
 "nbformat_minor": 5
}
